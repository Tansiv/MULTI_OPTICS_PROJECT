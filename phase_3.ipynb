{
  "nbformat": 4,
  "nbformat_minor": 0,
  "metadata": {
    "colab": {
      "provenance": [],
      "gpuType": "T4",
      "mount_file_id": "1cJuP-Q-n_xiEz2dFqvv6Tmxc-h_gZIzK",
      "authorship_tag": "ABX9TyNYq5ZLIQgV06tdty5LutlO",
      "include_colab_link": true
    },
    "kernelspec": {
      "name": "python3",
      "display_name": "Python 3"
    },
    "language_info": {
      "name": "python"
    },
    "accelerator": "GPU"
  },
  "cells": [
    {
      "cell_type": "markdown",
      "metadata": {
        "id": "view-in-github",
        "colab_type": "text"
      },
      "source": [
        "<a href=\"https://colab.research.google.com/github/Tansiv/MULTI_OPTICS_PROJECT/blob/main/phase_3.ipynb\" target=\"_parent\"><img src=\"https://colab.research.google.com/assets/colab-badge.svg\" alt=\"Open In Colab\"/></a>"
      ]
    },
    {
      "cell_type": "code",
      "source": [
        "# Install missing dependencies (if any)\n",
        "!pip install shap lime transformers\n",
        "\n",
        "# Import libraries\n",
        "import pandas as pd\n",
        "import numpy as np\n",
        "import seaborn as sns\n",
        "import matplotlib.pyplot as plt\n",
        "\n",
        "from sklearn.model_selection import train_test_split\n",
        "from sklearn.preprocessing import StandardScaler, LabelEncoder\n",
        "from sklearn.ensemble import RandomForestClassifier, VotingClassifier\n",
        "from sklearn.metrics import accuracy_score, classification_report, confusion_matrix\n",
        "\n",
        "import shap\n",
        "import lime\n",
        "import torch\n",
        "from transformers import AutoModel, AutoTokenizer\n",
        "\n",
        "# Ignore warnings for cleaner output\n",
        "import warnings\n",
        "warnings.filterwarnings('ignore')\n",
        "\n",
        "print(\"✅ Libraries Loaded Successfully!\")\n"
      ],
      "metadata": {
        "colab": {
          "base_uri": "https://localhost:8080/"
        },
        "id": "0mzm-qG8Cnxy",
        "outputId": "ad9c5f19-ed8e-4e7f-e8bf-abb34c2fd8f7"
      },
      "execution_count": 8,
      "outputs": [
        {
          "output_type": "stream",
          "name": "stdout",
          "text": [
            "Requirement already satisfied: shap in /usr/local/lib/python3.11/dist-packages (0.46.0)\n",
            "Collecting lime\n",
            "  Downloading lime-0.2.0.1.tar.gz (275 kB)\n",
            "\u001b[2K     \u001b[90m━━━━━━━━━━━━━━━━━━━━━━━━━━━━━━━━━━━━━━━━\u001b[0m \u001b[32m275.7/275.7 kB\u001b[0m \u001b[31m5.0 MB/s\u001b[0m eta \u001b[36m0:00:00\u001b[0m\n",
            "\u001b[?25h  Preparing metadata (setup.py) ... \u001b[?25l\u001b[?25hdone\n",
            "Requirement already satisfied: transformers in /usr/local/lib/python3.11/dist-packages (4.48.3)\n",
            "Requirement already satisfied: numpy in /usr/local/lib/python3.11/dist-packages (from shap) (1.26.4)\n",
            "Requirement already satisfied: scipy in /usr/local/lib/python3.11/dist-packages (from shap) (1.13.1)\n",
            "Requirement already satisfied: scikit-learn in /usr/local/lib/python3.11/dist-packages (from shap) (1.5.2)\n",
            "Requirement already satisfied: pandas in /usr/local/lib/python3.11/dist-packages (from shap) (2.2.2)\n",
            "Requirement already satisfied: tqdm>=4.27.0 in /usr/local/lib/python3.11/dist-packages (from shap) (4.67.1)\n",
            "Requirement already satisfied: packaging>20.9 in /usr/local/lib/python3.11/dist-packages (from shap) (24.2)\n",
            "Requirement already satisfied: slicer==0.0.8 in /usr/local/lib/python3.11/dist-packages (from shap) (0.0.8)\n",
            "Requirement already satisfied: numba in /usr/local/lib/python3.11/dist-packages (from shap) (0.61.0)\n",
            "Requirement already satisfied: cloudpickle in /usr/local/lib/python3.11/dist-packages (from shap) (3.1.1)\n",
            "Requirement already satisfied: matplotlib in /usr/local/lib/python3.11/dist-packages (from lime) (3.10.0)\n",
            "Requirement already satisfied: scikit-image>=0.12 in /usr/local/lib/python3.11/dist-packages (from lime) (0.25.2)\n",
            "Requirement already satisfied: filelock in /usr/local/lib/python3.11/dist-packages (from transformers) (3.17.0)\n",
            "Requirement already satisfied: huggingface-hub<1.0,>=0.24.0 in /usr/local/lib/python3.11/dist-packages (from transformers) (0.28.1)\n",
            "Requirement already satisfied: pyyaml>=5.1 in /usr/local/lib/python3.11/dist-packages (from transformers) (6.0.2)\n",
            "Requirement already satisfied: regex!=2019.12.17 in /usr/local/lib/python3.11/dist-packages (from transformers) (2024.11.6)\n",
            "Requirement already satisfied: requests in /usr/local/lib/python3.11/dist-packages (from transformers) (2.32.3)\n",
            "Requirement already satisfied: tokenizers<0.22,>=0.21 in /usr/local/lib/python3.11/dist-packages (from transformers) (0.21.0)\n",
            "Requirement already satisfied: safetensors>=0.4.1 in /usr/local/lib/python3.11/dist-packages (from transformers) (0.5.3)\n",
            "Requirement already satisfied: fsspec>=2023.5.0 in /usr/local/lib/python3.11/dist-packages (from huggingface-hub<1.0,>=0.24.0->transformers) (2024.10.0)\n",
            "Requirement already satisfied: typing-extensions>=3.7.4.3 in /usr/local/lib/python3.11/dist-packages (from huggingface-hub<1.0,>=0.24.0->transformers) (4.12.2)\n",
            "Requirement already satisfied: networkx>=3.0 in /usr/local/lib/python3.11/dist-packages (from scikit-image>=0.12->lime) (3.4.2)\n",
            "Requirement already satisfied: pillow>=10.1 in /usr/local/lib/python3.11/dist-packages (from scikit-image>=0.12->lime) (11.1.0)\n",
            "Requirement already satisfied: imageio!=2.35.0,>=2.33 in /usr/local/lib/python3.11/dist-packages (from scikit-image>=0.12->lime) (2.37.0)\n",
            "Requirement already satisfied: tifffile>=2022.8.12 in /usr/local/lib/python3.11/dist-packages (from scikit-image>=0.12->lime) (2025.2.18)\n",
            "Requirement already satisfied: lazy-loader>=0.4 in /usr/local/lib/python3.11/dist-packages (from scikit-image>=0.12->lime) (0.4)\n",
            "Requirement already satisfied: joblib>=1.2.0 in /usr/local/lib/python3.11/dist-packages (from scikit-learn->shap) (1.4.2)\n",
            "Requirement already satisfied: threadpoolctl>=3.1.0 in /usr/local/lib/python3.11/dist-packages (from scikit-learn->shap) (3.5.0)\n",
            "Requirement already satisfied: contourpy>=1.0.1 in /usr/local/lib/python3.11/dist-packages (from matplotlib->lime) (1.3.1)\n",
            "Requirement already satisfied: cycler>=0.10 in /usr/local/lib/python3.11/dist-packages (from matplotlib->lime) (0.12.1)\n",
            "Requirement already satisfied: fonttools>=4.22.0 in /usr/local/lib/python3.11/dist-packages (from matplotlib->lime) (4.56.0)\n",
            "Requirement already satisfied: kiwisolver>=1.3.1 in /usr/local/lib/python3.11/dist-packages (from matplotlib->lime) (1.4.8)\n",
            "Requirement already satisfied: pyparsing>=2.3.1 in /usr/local/lib/python3.11/dist-packages (from matplotlib->lime) (3.2.1)\n",
            "Requirement already satisfied: python-dateutil>=2.7 in /usr/local/lib/python3.11/dist-packages (from matplotlib->lime) (2.8.2)\n",
            "Requirement already satisfied: llvmlite<0.45,>=0.44.0dev0 in /usr/local/lib/python3.11/dist-packages (from numba->shap) (0.44.0)\n",
            "Requirement already satisfied: pytz>=2020.1 in /usr/local/lib/python3.11/dist-packages (from pandas->shap) (2025.1)\n",
            "Requirement already satisfied: tzdata>=2022.7 in /usr/local/lib/python3.11/dist-packages (from pandas->shap) (2025.1)\n",
            "Requirement already satisfied: charset-normalizer<4,>=2 in /usr/local/lib/python3.11/dist-packages (from requests->transformers) (3.4.1)\n",
            "Requirement already satisfied: idna<4,>=2.5 in /usr/local/lib/python3.11/dist-packages (from requests->transformers) (3.10)\n",
            "Requirement already satisfied: urllib3<3,>=1.21.1 in /usr/local/lib/python3.11/dist-packages (from requests->transformers) (2.3.0)\n",
            "Requirement already satisfied: certifi>=2017.4.17 in /usr/local/lib/python3.11/dist-packages (from requests->transformers) (2025.1.31)\n",
            "Requirement already satisfied: six>=1.5 in /usr/local/lib/python3.11/dist-packages (from python-dateutil>=2.7->matplotlib->lime) (1.17.0)\n",
            "Building wheels for collected packages: lime\n",
            "  Building wheel for lime (setup.py) ... \u001b[?25l\u001b[?25hdone\n",
            "  Created wheel for lime: filename=lime-0.2.0.1-py3-none-any.whl size=283834 sha256=ddf20d2446b0197a192af3c1e9c576dc46ad933ac4364ded138c13b2acafdbf7\n",
            "  Stored in directory: /root/.cache/pip/wheels/85/fa/a3/9c2d44c9f3cd77cf4e533b58900b2bf4487f2a17e8ec212a3d\n",
            "Successfully built lime\n",
            "Installing collected packages: lime\n",
            "Successfully installed lime-0.2.0.1\n",
            "✅ Libraries Loaded Successfully!\n"
          ]
        }
      ]
    },
    {
      "cell_type": "code",
      "source": [
        "#Load Cleaned Multi-Omics Datasets\n",
        "\n",
        "# Mount Google Drive\n",
        "from google.colab import drive\n",
        "drive.mount('/content/drive')\n",
        "\n",
        "# Define dataset paths (Modify this path based on your Google Drive location)\n",
        "base_path = \"/content/drive/MyDrive/Personal Dataset folder/Multi-Omics Data/datasets\"\n",
        "genomic_file = base_path + \"/Genomic_Cleaned.csv\" # Corrected path\n",
        "proteomic_file = base_path + \"/Proteomic_Cleaned.csv\" # Corrected path\n",
        "transcriptomic_file = base_path + \"/Transcriptomic_Cleaned.csv\" # Corrected path\n",
        "\n",
        "# Load datasets\n",
        "df_genomic = pd.read_csv(genomic_file)\n",
        "df_proteomic = pd.read_csv(proteomic_file)\n",
        "df_transcriptomic = pd.read_csv(transcriptomic_file)\n",
        "\n",
        "print(\"✅ Datasets Loaded Successfully!\")\n",
        "print(f\"Genomic Shape: {df_genomic.shape}\")\n",
        "print(f\"Proteomic Shape: {df_proteomic.shape}\")\n",
        "print(f\"Transcriptomic Shape: {df_transcriptomic.shape}\")"
      ],
      "metadata": {
        "colab": {
          "base_uri": "https://localhost:8080/"
        },
        "id": "APMhjp0YCwJq",
        "outputId": "3aa84530-a8dd-4f78-fb35-a8ea45c2a6d4"
      },
      "execution_count": 10,
      "outputs": [
        {
          "output_type": "stream",
          "name": "stdout",
          "text": [
            "Drive already mounted at /content/drive; to attempt to forcibly remount, call drive.mount(\"/content/drive\", force_remount=True).\n",
            "✅ Datasets Loaded Successfully!\n",
            "Genomic Shape: (12038, 18)\n",
            "Proteomic Shape: (5531, 16915)\n",
            "Transcriptomic Shape: (3875, 33)\n"
          ]
        }
      ]
    },
    {
      "cell_type": "code",
      "source": [
        "# Data Preprocessing (Handle Missing Values, Scaling)\n",
        "\n",
        "# Function to preprocess data\n",
        "def preprocess_data(df):\n",
        "    # Drop columns with too many missing values (optional)\n",
        "    df.dropna(thresh=len(df) * 0.5, axis=1, inplace=True)\n",
        "\n",
        "    # Fill missing values with median (for numerical) or mode (for categorical)\n",
        "    for col in df.columns:\n",
        "        if df[col].dtype == 'object':  # Categorical\n",
        "            df[col].fillna(df[col].mode()[0], inplace=True)\n",
        "        else:  # Numerical\n",
        "            df[col].fillna(df[col].median(), inplace=True)\n",
        "\n",
        "    # Encode categorical variables\n",
        "    for col in df.select_dtypes(include=['object']).columns:\n",
        "        df[col] = LabelEncoder().fit_transform(df[col])\n",
        "\n",
        "    # Scale numerical features\n",
        "    scaler = StandardScaler()\n",
        "    df[df.columns] = scaler.fit_transform(df)\n",
        "\n",
        "    return df\n",
        "\n",
        "# Apply preprocessing\n",
        "df_genomic = preprocess_data(df_genomic)\n",
        "df_proteomic = preprocess_data(df_proteomic)\n",
        "df_transcriptomic = preprocess_data(df_transcriptomic)\n",
        "\n",
        "print(\"✅ Data Preprocessed Successfully!\")\n"
      ],
      "metadata": {
        "colab": {
          "base_uri": "https://localhost:8080/"
        },
        "id": "Iw3SjWdEDsmU",
        "outputId": "7d9a4e79-5349-4d42-a3b1-3145b7eaf4a5"
      },
      "execution_count": 11,
      "outputs": [
        {
          "output_type": "stream",
          "name": "stdout",
          "text": [
            "✅ Data Preprocessed Successfully!\n"
          ]
        }
      ]
    },
    {
      "cell_type": "code",
      "source": [
        "# Merge Multi-Omics Data\n",
        "\n",
        "# Merge datasets based on a common key (modify as per actual dataset structure)\n",
        "df_merged = pd.concat([df_genomic, df_proteomic, df_transcriptomic], axis=1)\n",
        "\n",
        "# Shuffle the data\n",
        "df_merged = df_merged.sample(frac=1).reset_index(drop=True)\n",
        "\n",
        "print(f\"✅ Final Merged Dataset Shape: {df_merged.shape}\")\n"
      ],
      "metadata": {
        "colab": {
          "base_uri": "https://localhost:8080/"
        },
        "id": "r1zFDtAVDsip",
        "outputId": "724023a2-e839-475f-a4e5-9d43eb008a39"
      },
      "execution_count": 12,
      "outputs": [
        {
          "output_type": "stream",
          "name": "stdout",
          "text": [
            "✅ Final Merged Dataset Shape: (12038, 16966)\n"
          ]
        }
      ]
    },
    {
      "cell_type": "code",
      "source": [],
      "metadata": {
        "id": "Rbpca0hME6gZ"
      },
      "execution_count": null,
      "outputs": []
    },
    {
      "cell_type": "code",
      "source": [
        "#Check Available Columns\n",
        "print(\"Columns in df_merged:\", df_merged.columns)\n",
        "\n"
      ],
      "metadata": {
        "colab": {
          "base_uri": "https://localhost:8080/"
        },
        "id": "ESu6-xSOE3vR",
        "outputId": "ba554df0-8f8a-4c10-c78e-7981f318f821"
      },
      "execution_count": 15,
      "outputs": [
        {
          "output_type": "stream",
          "name": "stdout",
          "text": [
            "Columns in df_merged: Index(['Name', 'Gene(s)', 'Protein change', 'Condition(s)', 'Accession',\n",
            "       'GRCh37Chromosome', 'GRCh37Location', 'GRCh38Chromosome',\n",
            "       'GRCh38Location', 'VariationID',\n",
            "       ...\n",
            "       'NR_33WT_28_1', 'NR_33WT_28_2', 'NR_34WT_25_1', 'NR_34WT_25_2',\n",
            "       'NR_34WT_29_1', 'NR_34WT_29_2', 'NR_35WT_26_1', 'NR_35WT_26_2',\n",
            "       'NR_35WT_30_1', 'NR_35WT_30_2'],\n",
            "      dtype='object', length=16966)\n"
          ]
        }
      ]
    },
    {
      "cell_type": "code",
      "source": [
        "#Verify If the Target Column Exists in Any Dataset\n",
        "print(\"Columns in Genomic:\", df_genomic.columns)\n",
        "print(\"Columns in Proteomic:\", df_proteomic.columns)\n",
        "print(\"Columns in Transcriptomic:\", df_transcriptomic.columns)\n"
      ],
      "metadata": {
        "colab": {
          "base_uri": "https://localhost:8080/"
        },
        "id": "rPpKWp7sE3gB",
        "outputId": "484b1891-aa8a-44b5-fc73-34087994eb02"
      },
      "execution_count": 16,
      "outputs": [
        {
          "output_type": "stream",
          "name": "stdout",
          "text": [
            "Columns in Genomic: Index(['Name', 'Gene(s)', 'Protein change', 'Condition(s)', 'Accession',\n",
            "       'GRCh37Chromosome', 'GRCh37Location', 'GRCh38Chromosome',\n",
            "       'GRCh38Location', 'VariationID', 'AlleleID(s)', 'dbSNP ID',\n",
            "       'Canonical SPDI', 'Variant type', 'Molecular consequence',\n",
            "       'Germline classification', 'Germline date last evaluated',\n",
            "       'Germline review status'],\n",
            "      dtype='object')\n",
            "Columns in Proteomic: Index(['Unnamed: 0', 'TFE3 (7030)', 'MMADHC (27249)', 'PABPC1L (80336)',\n",
            "       'RELL2 (285613)', 'GPT (2875)', 'GUSB (2990)', 'DDB2 (1643)',\n",
            "       'RPS4X (6191)', 'HINFP (25988)',\n",
            "       ...\n",
            "       'C14orf93 (60686)', 'NR3C2 (4306)', 'CFAP276 (127003)',\n",
            "       'OR4C16 (219428)', 'OR5B17 (219965)', 'SLCO1B7 (Unknown)',\n",
            "       'OR4M1 (441670)', 'ZNF781 (Unknown)', 'RUNX1 (100506403)',\n",
            "       'BLTP1 (84162)'],\n",
            "      dtype='object', length=16915)\n",
            "Columns in Transcriptomic: Index(['gene', 'NR_14DMD_31_1', 'NR_14DMD_31_2', 'NR_14DMD_35_1',\n",
            "       'NR_14DMD_35_2', 'NR_15DMD_32_1', 'NR_15DMD_32_2', 'NR_15DMD_36_1',\n",
            "       'NR_15DMD_36_2', 'NR_16DMD_33_1', 'NR_16DMD_33_2', 'NR_16DMD_37_1',\n",
            "       'NR_16DMD_37_2', 'NR_17DMD_34_1', 'NR_17DMD_34_2', 'NR_17DMD_38_1',\n",
            "       'NR_17DMD_38_2', 'NR_31WT_23_1', 'NR_31WT_23_2', 'NR_31WT_27_1',\n",
            "       'NR_31WT_27_2', 'NR_33WT_24_1', 'NR_33WT_24_2', 'NR_33WT_28_1',\n",
            "       'NR_33WT_28_2', 'NR_34WT_25_1', 'NR_34WT_25_2', 'NR_34WT_29_1',\n",
            "       'NR_34WT_29_2', 'NR_35WT_26_1', 'NR_35WT_26_2', 'NR_35WT_30_1',\n",
            "       'NR_35WT_30_2'],\n",
            "      dtype='object')\n"
          ]
        }
      ]
    },
    {
      "cell_type": "code",
      "source": [
        "print(df_genomic['Condition(s)'].value_counts())  # Check for labels\n",
        "print(df_genomic['Germline classification'].value_counts())\n"
      ],
      "metadata": {
        "colab": {
          "base_uri": "https://localhost:8080/"
        },
        "id": "rEu6Uvb1FOIZ",
        "outputId": "7723ee38-19a6-4ea5-9a0d-85376e11dc6d"
      },
      "execution_count": 19,
      "outputs": [
        {
          "output_type": "stream",
          "name": "stdout",
          "text": [
            "Condition(s)\n",
            " 1.212911    452\n",
            " 0.563522    448\n",
            "-0.380314    407\n",
            " 0.207124    288\n",
            "-1.095297    194\n",
            "            ... \n",
            " 1.722364      1\n",
            "-0.297227      1\n",
            " 1.720906      1\n",
            " 0.188174      1\n",
            " 0.237735      1\n",
            "Name: count, Length: 5121, dtype: int64\n",
            "Germline classification\n",
            "-1.241384    4586\n",
            " 0.877513    3752\n",
            " 0.612650    3556\n",
            " 3.261272      53\n",
            " 0.347788      29\n",
            "-0.446798      14\n",
            "-0.976522      14\n",
            " 2.201823       4\n",
            " 1.936961       4\n",
            " 1.142375       4\n",
            " 3.526134       4\n",
            "-0.711660       4\n",
            " 1.407237       3\n",
            " 2.466685       3\n",
            " 3.790996       2\n",
            " 0.082926       2\n",
            "-0.181936       1\n",
            " 1.672099       1\n",
            " 2.996409       1\n",
            " 2.731547       1\n",
            "Name: count, dtype: int64\n"
          ]
        }
      ]
    },
    {
      "cell_type": "code",
      "source": [
        "print(df_genomic['Germline classification'].unique())\n"
      ],
      "metadata": {
        "colab": {
          "base_uri": "https://localhost:8080/"
        },
        "id": "c322weD7FOEz",
        "outputId": "c51768f8-1340-45f0-e15c-34fc21f739c4"
      },
      "execution_count": 20,
      "outputs": [
        {
          "output_type": "stream",
          "name": "stdout",
          "text": [
            "[ 0.87751253 -1.24138441  0.61265041  0.08292618  1.40723677  1.936961\n",
            "  3.79099583  2.20182312 -0.18193594  0.3477883  -0.9765223   1.67209889\n",
            "  2.99640948  1.14237465  3.2612716   2.46668524  3.52613371  2.73154736\n",
            " -0.44679806 -0.71166018]\n"
          ]
        }
      ]
    },
    {
      "cell_type": "code",
      "source": [
        "print(df_genomic['Germline classification'].value_counts())\n"
      ],
      "metadata": {
        "colab": {
          "base_uri": "https://localhost:8080/"
        },
        "id": "2dqrWu_JFOA4",
        "outputId": "70ca82f6-e35f-4291-a6ba-122bf9584736"
      },
      "execution_count": 21,
      "outputs": [
        {
          "output_type": "stream",
          "name": "stdout",
          "text": [
            "Germline classification\n",
            "-1.241384    4586\n",
            " 0.877513    3752\n",
            " 0.612650    3556\n",
            " 3.261272      53\n",
            " 0.347788      29\n",
            "-0.446798      14\n",
            "-0.976522      14\n",
            " 2.201823       4\n",
            " 1.936961       4\n",
            " 1.142375       4\n",
            " 3.526134       4\n",
            "-0.711660       4\n",
            " 1.407237       3\n",
            " 2.466685       3\n",
            " 3.790996       2\n",
            " 0.082926       2\n",
            "-0.181936       1\n",
            " 1.672099       1\n",
            " 2.996409       1\n",
            " 2.731547       1\n",
            "Name: count, dtype: int64\n"
          ]
        }
      ]
    },
    {
      "cell_type": "code",
      "source": [
        "#Binary Classification (Simple)\n",
        "\n",
        "#You can divide the values into two categories:\n",
        "\n",
        "#Negative (0) = Non-disease / benign cases\n",
        "#Positive (1) = Disease-related cases\n",
        "\n",
        "df_genomic['Germline_label'] = df_genomic['Germline classification'].apply(lambda x: 1 if x > 0 else 0)\n",
        "\n",
        "\n"
      ],
      "metadata": {
        "id": "FeZkAh57HAZA"
      },
      "execution_count": 22,
      "outputs": []
    },
    {
      "cell_type": "code",
      "source": [],
      "metadata": {
        "id": "zlXY90lMHARw"
      },
      "execution_count": null,
      "outputs": []
    },
    {
      "cell_type": "code",
      "source": [],
      "metadata": {
        "id": "ZFQekqtWHAOY"
      },
      "execution_count": null,
      "outputs": []
    },
    {
      "cell_type": "code",
      "source": [],
      "metadata": {
        "id": "k7lU9XirFN8y"
      },
      "execution_count": null,
      "outputs": []
    },
    {
      "cell_type": "markdown",
      "source": [
        "Model train part"
      ],
      "metadata": {
        "id": "0hXiiFwiIeiw"
      }
    },
    {
      "cell_type": "code",
      "source": [
        "from sklearn.model_selection import train_test_split\n",
        "\n",
        "# Define features (X) and target (y)\n",
        "X = df_genomic.drop(columns=['Germline classification', 'Germline_label'], errors='ignore')  # Drop target columns\n",
        "y = df_genomic['Germline_label']  # Use the new categorical target column\n",
        "\n",
        "# Split into training (80%) and testing (20%)\n",
        "X_train, X_test, y_train, y_test = train_test_split(X, y, test_size=0.2, random_state=42, stratify=y)\n",
        "\n",
        "print(\"✅ Train-Test Split Done!\")\n",
        "print(f\"Training Data Shape: {X_train.shape}\")\n",
        "print(f\"Testing Data Shape: {X_test.shape}\")\n"
      ],
      "metadata": {
        "colab": {
          "base_uri": "https://localhost:8080/"
        },
        "id": "9ubT57CRDsex",
        "outputId": "e7633cf5-e3d1-4342-eb5a-aa939f9ba0b7"
      },
      "execution_count": 23,
      "outputs": [
        {
          "output_type": "stream",
          "name": "stdout",
          "text": [
            "✅ Train-Test Split Done!\n",
            "Training Data Shape: (9630, 17)\n",
            "Testing Data Shape: (2408, 17)\n"
          ]
        }
      ]
    },
    {
      "cell_type": "code",
      "source": [],
      "metadata": {
        "id": "iUsCVn30DsRB"
      },
      "execution_count": null,
      "outputs": []
    }
  ]
}